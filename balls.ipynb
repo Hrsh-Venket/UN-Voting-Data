{
 "cells": [
  {
   "cell_type": "code",
   "execution_count": 152,
   "metadata": {},
   "outputs": [
    {
     "data": {
      "text/html": [
       "<div>\n",
       "<style scoped>\n",
       "    .dataframe tbody tr th:only-of-type {\n",
       "        vertical-align: middle;\n",
       "    }\n",
       "\n",
       "    .dataframe tbody tr th {\n",
       "        vertical-align: top;\n",
       "    }\n",
       "\n",
       "    .dataframe thead th {\n",
       "        text-align: right;\n",
       "    }\n",
       "</style>\n",
       "<table border=\"1\" class=\"dataframe\">\n",
       "  <thead>\n",
       "    <tr style=\"text-align: right;\">\n",
       "      <th></th>\n",
       "      <th>rcid</th>\n",
       "      <th>ccode</th>\n",
       "      <th>vote</th>\n",
       "      <th>Countryname</th>\n",
       "      <th>year</th>\n",
       "    </tr>\n",
       "  </thead>\n",
       "  <tbody>\n",
       "    <tr>\n",
       "      <th>0</th>\n",
       "      <td>4593</td>\n",
       "      <td>2</td>\n",
       "      <td>3</td>\n",
       "      <td>united states of america</td>\n",
       "      <td>2006</td>\n",
       "    </tr>\n",
       "    <tr>\n",
       "      <th>1</th>\n",
       "      <td>4593</td>\n",
       "      <td>20</td>\n",
       "      <td>1</td>\n",
       "      <td>canada</td>\n",
       "      <td>2006</td>\n",
       "    </tr>\n",
       "    <tr>\n",
       "      <th>2</th>\n",
       "      <td>4593</td>\n",
       "      <td>31</td>\n",
       "      <td>1</td>\n",
       "      <td>bahamas</td>\n",
       "      <td>2006</td>\n",
       "    </tr>\n",
       "    <tr>\n",
       "      <th>3</th>\n",
       "      <td>4593</td>\n",
       "      <td>40</td>\n",
       "      <td>1</td>\n",
       "      <td>cuba</td>\n",
       "      <td>2006</td>\n",
       "    </tr>\n",
       "    <tr>\n",
       "      <th>4</th>\n",
       "      <td>4593</td>\n",
       "      <td>41</td>\n",
       "      <td>1</td>\n",
       "      <td>haiti</td>\n",
       "      <td>2006</td>\n",
       "    </tr>\n",
       "    <tr>\n",
       "      <th>...</th>\n",
       "      <td>...</td>\n",
       "      <td>...</td>\n",
       "      <td>...</td>\n",
       "      <td>...</td>\n",
       "      <td>...</td>\n",
       "    </tr>\n",
       "    <tr>\n",
       "      <th>66773</th>\n",
       "      <td>9312</td>\n",
       "      <td>970</td>\n",
       "      <td>3</td>\n",
       "      <td>nauru</td>\n",
       "      <td>2021</td>\n",
       "    </tr>\n",
       "    <tr>\n",
       "      <th>66774</th>\n",
       "      <td>9312</td>\n",
       "      <td>983</td>\n",
       "      <td>3</td>\n",
       "      <td>marshall islands</td>\n",
       "      <td>2021</td>\n",
       "    </tr>\n",
       "    <tr>\n",
       "      <th>66775</th>\n",
       "      <td>9312</td>\n",
       "      <td>986</td>\n",
       "      <td>1</td>\n",
       "      <td>palau</td>\n",
       "      <td>2021</td>\n",
       "    </tr>\n",
       "    <tr>\n",
       "      <th>66776</th>\n",
       "      <td>9312</td>\n",
       "      <td>987</td>\n",
       "      <td>3</td>\n",
       "      <td>micronesia (federated states of)</td>\n",
       "      <td>2021</td>\n",
       "    </tr>\n",
       "    <tr>\n",
       "      <th>66777</th>\n",
       "      <td>9312</td>\n",
       "      <td>990</td>\n",
       "      <td>1</td>\n",
       "      <td>samoa</td>\n",
       "      <td>2021</td>\n",
       "    </tr>\n",
       "  </tbody>\n",
       "</table>\n",
       "<p>66778 rows × 5 columns</p>\n",
       "</div>"
      ],
      "text/plain": [
       "       rcid  ccode  vote                       Countryname  year\n",
       "0      4593      2     3          united states of america  2006\n",
       "1      4593     20     1                            canada  2006\n",
       "2      4593     31     1                           bahamas  2006\n",
       "3      4593     40     1                              cuba  2006\n",
       "4      4593     41     1                             haiti  2006\n",
       "...     ...    ...   ...                               ...   ...\n",
       "66773  9312    970     3                             nauru  2021\n",
       "66774  9312    983     3                  marshall islands  2021\n",
       "66775  9312    986     1                             palau  2021\n",
       "66776  9312    987     3  micronesia (federated states of)  2021\n",
       "66777  9312    990     1                             samoa  2021\n",
       "\n",
       "[66778 rows x 5 columns]"
      ]
     },
     "execution_count": 152,
     "metadata": {},
     "output_type": "execute_result"
    }
   ],
   "source": [
    "import pandas as pd\n",
    "import numpy as np\n",
    "\n",
    "df = pd.read_excel(\"ALL_HR_ALL.xlsx\") # relative path to input file here\n",
    "\n",
    "# df\n",
    "# rcid, ccode, vote, countyname, year\n",
    "newdf = df.drop([\"member\", \"Country\", \"session\", \"abstain\", \"yes\", \n",
    "                 \"no\", \"date\", \"unres\", \"amend\", \"para\", \"short\", \n",
    "                 \"descr\", \"hr\", \"resid\", \"importantvote\", \"co\"], axis='columns')\n",
    "newdf[\"Countryname\"] = newdf[\"Countryname\"].str.lower()\n",
    "newdf"
   ]
  },
  {
   "attachments": {},
   "cell_type": "markdown",
   "metadata": {},
   "source": [
    "A value of 1 to countries that vote the same way as China; a value of 0.5 if one of the countries decided to abstain while the other voted either a yes or no; and finally a 0 for countries that voted the opposite to China’s decision. A yearly average was then calculated by dividing a country’s total voting convergence score by the total number of country-specific human rights votes in that year, converting the final value into percentage terms by applying a natural logarithmic transformation."
   ]
  },
  {
   "cell_type": "code",
   "execution_count": 153,
   "metadata": {},
   "outputs": [],
   "source": [
    "# list of rcids\n",
    "rcids = []\n",
    "for i in newdf[\"rcid\"]:\n",
    "    if i not in rcids:\n",
    "        rcids.append(i)"
   ]
  },
  {
   "cell_type": "code",
   "execution_count": 154,
   "metadata": {},
   "outputs": [
    {
     "name": "stdout",
     "output_type": "stream",
     "text": [
      "346\n",
      "346\n",
      "{4593: 1, 4673: 1, 4674: 1, 4705: 1, 4717: 1, 4718: 1, 4719: 1, 4720: 1, 4723: 3, 4724: 3, 4725: 3, 4727: 1, 4728: 1, 4729: 1, 4731: 1, 4732: 1, 4734: 1, 4735: 1, 4736: 1, 4737: 1, 4738: 1, 4739: 1, 4740: 1, 4741: 1, 4747: 2, 4749: 3, 5798: 1, 5799: 3, 4753: 1, 4780: 1, 4781: 1, 4789: 1, 4790: 1, 4795: 1, 4796: 1, 4798: 1, 4799: 1, 4800: 1, 4801: 3, 4802: 1, 4803: 1, 4804: 1, 4805: 1, 4806: 1, 4807: 3, 4808: 1, 4809: 1, 4810: 1, 4811: 1, 4812: 1, 4813: 3, 4814: 3, 4820: 3, 4825: 1, 4827: 1, 4839: 1, 4840: 1, 4874: 1, 4875: 1, 4878: 1, 4880: 1, 4881: 1, 4882: 3, 4883: 1, 4884: 1, 4885: 1, 4886: 2, 4887: 1, 4888: 1, 4889: 3, 4890: 3, 4891: 1, 4892: 1, 4893: 1, 4894: 1, 4895: 1, 4896: 1, 4897: 1, 4902: 3, 4903: 1, 4904: 1, 4980: 1, 4981: 1, 4982: 1, 5011: 1, 5012: 1, 5013: 1, 5020: 1, 5021: 1, 5023: 1, 5024: 1, 5025: 1, 5026: 1, 5027: 1, 5028: 1, 5029: 3, 5030: 3, 5031: 1, 5032: 1, 5033: 1, 5034: 1, 5035: 1, 5036: 1, 5043: 3, 5044: 1, 5046: 1, 5052: 1, 5053: 1, 5082: 1, 5083: 1, 5084: 1, 5085: 1, 5086: 1, 5097: 1, 5098: 1, 5099: 1, 5100: 3, 5101: 2, 5102: 1, 5103: 1, 5104: 1, 5105: 1, 5106: 1, 5107: 1, 5108: 3, 5109: 1, 5110: 3, 5884: 3, 5885: 3, 5113: 1, 5116: 1, 5118: 1, 5119: 1, 5120: 1, 5121: 1, 5122: 1, 5123: 1, 5124: 1, 5125: 1, 5126: 1, 5127: 1, 5128: 1, 5129: 1, 5131: 1, 5133: 3, 5134: 3, 5135: 2, 5145: 3, 5170: 1, 5171: 1, 5172: 1, 5173: 1, 5174: 1, 5916: 1, 5183: 1, 5184: 1, 5217: 1, 5218: 1, 5219: 1, 5220: 1, 5221: 1, 5227: 2, 5228: 1, 5229: 1, 5230: 1, 5231: 1, 5232: 1, 5233: 1, 5234: 2, 5235: 1, 5236: 1, 5237: 1, 5238: 1, 5239: 3, 5240: 3, 5241: 3, 5935: 1, 5254: 1, 5255: 1, 5281: 1, 5282: 1, 5283: 1, 5284: 1, 5287: 1, 5291: 3, 5292: 1, 5293: 1, 5294: 1, 5295: 1, 5296: 1, 5297: 1, 5298: 1, 5299: 1, 5300: 1, 5301: 1, 5302: 1, 5303: 3, 5308: 1, 5315: 1, 5316: 1, 5355: 1, 5358: 1, 5363: 1, 5364: 1, 5365: 1, 5366: 1, 5367: 1, 5369: 1, 5370: 1, 5371: 1, 5373: 1, 5374: 1, 5376: 3, 5377: 3, 5378: 3, 5379: 3, 5396: 1, 5397: 1, 5435: 1, 5438: 1, 5443: 1, 5444: 1, 5445: 1, 5446: 1, 5447: 1, 5448: 1, 5450: 1, 5451: 1, 5452: 1, 5453: 1, 5454: 1, 5455: 3, 5457: 1, 5458: 3, 5459: 3, 5465: 3, 5469: 1, 5470: 1, 5475: 1, 5476: 1, 5477: 1, 5478: 1, 5479: 1, 5480: 3, 5481: 1, 5482: 1, 5483: 1, 5484: 1, 5485: 1, 5486: 2, 5487: 3, 5488: 3, 5489: 3, 5540: 1, 5977: 3, 5553: 1, 5555: 1, 5556: 3, 5557: 1, 5558: 3, 5559: 1, 5560: 1, 5561: 1, 5563: 1, 5564: 1, 5565: 1, 5566: 1, 5567: 1, 5568: 1, 5569: 2, 5570: 1, 5571: 1, 5572: 1, 5573: 1, 5574: 1, 5575: 3, 5589: 1, 5591: 1, 5593: 3, 5623: 1, 5628: 1, 5631: 1, 5633: 1, 5634: 1, 6006: 2, 6105: 1, 6109: 1, 6111: 1, 6112: 1, 6113: 1, 6121: 2, 6122: 1, 6123: 1, 6124: 3, 6126: 1, 6127: 1, 6128: 1, 6129: 3, 6130: 1, 6131: 2, 6132: 1, 6133: 3, 6134: 8, 6136: 1, 6155: 3, 6157: 1, 6158: 3, 9063: 1, 9065: 1, 9071: 1, 9073: 1, 9084: 1, 9088: 1, 9108: 1, 9111: 3, 9112: 1, 9114: 1, 9120: 1, 9121: 3, 9124: 3, 9131: 3, 9152: 3, 9155: 1, 9159: 1, 9174: 3, 9187: 1, 9196: 3, 9197: 1, 9205: 1, 9216: 1, 9219: 3, 9222: 1, 9231: 1, 9242: 3, 9245: 1, 9250: 3, 9263: 1, 9273: 1, 9275: 1, 9276: 1, 9279: 3, 9289: 1, 9290: 1, 9299: 3, 9303: 1, 9312: 1}\n"
     ]
    }
   ],
   "source": [
    "newdf[\"cvote\"] = 0\n",
    "\n",
    "cvotes = []\n",
    "\n",
    "resgroup = newdf.groupby(newdf.rcid)\n",
    "# df1 = resgroup.get_group(4723)\n",
    "\n",
    "for i in range(len(rcids)):\n",
    "    df1 = resgroup.get_group(rcids[i])\n",
    "    for q in range(len(df1)):\n",
    "        if df1.iloc[q][\"ccode\"] == 710:\n",
    "            cvotes.append(df1.iloc[q][\"vote\"])\n",
    "\n",
    "print(len(rcids))\n",
    "print(len(cvotes))\n",
    "dictionary = {}\n",
    "for i in range(len(rcids)):\n",
    "    dictionary[rcids[i]] = cvotes[i]\n",
    "    \n",
    "print(dictionary)"
   ]
  },
  {
   "cell_type": "code",
   "execution_count": 155,
   "metadata": {},
   "outputs": [
    {
     "name": "stdout",
     "output_type": "stream",
     "text": [
      "       rcid  ccode  vote                       Countryname  year  cvote\n",
      "0      4593      2     3          united states of america  2006      1\n",
      "1      4593     20     1                            canada  2006      1\n",
      "2      4593     31     1                           bahamas  2006      1\n",
      "3      4593     40     1                              cuba  2006      1\n",
      "4      4593     41     1                             haiti  2006      1\n",
      "...     ...    ...   ...                               ...   ...    ...\n",
      "66773  9312    970     3                             nauru  2021      1\n",
      "66774  9312    983     3                  marshall islands  2021      1\n",
      "66775  9312    986     1                             palau  2021      1\n",
      "66776  9312    987     3  micronesia (federated states of)  2021      1\n",
      "66777  9312    990     1                             samoa  2021      1\n",
      "\n",
      "[66778 rows x 6 columns]\n"
     ]
    }
   ],
   "source": [
    "for i in range(len(newdf)):\n",
    "    newdf.loc[i, \"cvote\"] = dictionary[newdf.loc[i][\"rcid\"]]\n",
    "    \n",
    "print(newdf)\n"
   ]
  },
  {
   "cell_type": "code",
   "execution_count": 156,
   "metadata": {},
   "outputs": [],
   "source": [
    "newdf[\"alignment\"] = \"NA\"\n",
    "\n",
    "for i in range(len(newdf)):\n",
    "    if (newdf.loc[i, \"vote\"] == 8) or (newdf.loc[i, \"vote\"] == 9):\n",
    "        newdf.loc[i, \"alignment\"] = -100000\n",
    "    elif newdf.loc[i, \"vote\"] == newdf.loc[i, \"cvote\"]:\n",
    "        newdf.loc[i, \"alignment\"] = 1\n",
    "    elif (newdf.loc[i, \"vote\"] == 2) or (newdf.loc[i, \"cvote\"] == 2):\n",
    "        newdf.loc[i, \"alignment\"] = 0.5\n",
    "    else:\n",
    "        newdf.loc[i, \"alignment\"] = 0"
   ]
  },
  {
   "cell_type": "code",
   "execution_count": 157,
   "metadata": {},
   "outputs": [
    {
     "name": "stdout",
     "output_type": "stream",
     "text": [
      "['united states of america', 'canada', 'bahamas', 'cuba', 'haiti', 'dominican republic', 'jamaica', 'trinidad and tobago', 'barbados', 'dominica', 'grenada', 'saint lucia', 'saint vincent and the grenadines', 'antigua and barbuda', 'saint kitts and nevis', 'mexico', 'belize', 'guatemala', 'honduras', 'el salvador', 'nicaragua', 'costa rica', 'panama', 'colombia', 'venezuela, bolivarian republic of', 'guyana', 'suriname', 'ecuador', 'peru', 'brazil', 'bolivia (plurinational state of)', 'paraguay', 'chile', 'argentina', 'uruguay', 'united kingdom of great britain and northern ireland', 'ireland', 'netherlands', 'belgium', 'luxembourg', 'france', 'monaco', 'liechtenstein', 'switzerland', 'spain', 'andorra', 'portugal', 'germany', 'german democratic republic', 'poland', 'austria', 'hungary', 'czechoslovakia', 'czech republic', 'slovakia', 'italy', 'san marino', 'malta', 'albania', 'the former yugoslav republic of macedonia', 'croatia', 'yugoslavia', 'bosnia and herzegovina', 'slovenia', 'greece', 'cyprus', 'bulgaria', 'republic of moldova', 'romania', 'russian federation', 'estonia', 'latvia', 'lithuania', 'ukraine', 'belarus', 'armenia', 'georgia', 'azerbaijan', 'finland', 'sweden', 'norway', 'denmark', 'iceland', 'cabo verde', 'sao tome and principe', 'guinea bissau', 'equatorial guinea', 'gambia (islamic republic of the)', 'mali', 'senegal', 'benin', 'mauritania', 'niger', \"côte d'ivoire\", 'guinea', 'burkina faso', 'liberia', 'sierra leone', 'ghana', 'togo', 'cameroon', 'nigeria', 'gabon', 'central african republic', 'chad', 'congo', 'democratic republic of the congo', 'uganda', 'kenya', 'united republic of tanzania', 'zanzibar', 'burundi', 'rwanda', 'somalia', 'djibouti', 'ethiopia', 'eritrea', 'angola', 'mozambique', 'zambia', 'zimbabwe', 'malawi', 'south africa', 'namibia', 'lesotho', 'botswana', 'swaziland', 'madagascar', 'comoros', 'mauritius', 'seychelles', 'morocco', 'algeria', 'tunisia', 'libya', 'sudan', 'south sudan', 'iran (islamic republic of)', 'turkey', 'iraq', 'egypt', 'syrian arab republic', 'lebanon', 'jordan', 'israel', 'saudi arabia', 'yemen', \"yemen people's republic\", 'kuwait', 'bahrain', 'qatar', 'united arab emirates', 'oman', 'afghanistan', 'turkmenistan', 'tajikistan', 'kyrgyzstan', 'uzbekistan', 'kazakhstan', 'china', 'mongolia', 'taiwan, province of china', \"democratic people's republic of korea\", 'republic of korea', 'japan', 'india', 'bhutan', 'pakistan', 'bangladesh', 'myanmar', 'sri lanka', 'maldives', 'nepal', 'thailand', 'cambodia', \"lao people's democratic republic\", 'viet nam', 'malaysia', 'singapore', 'brunei darussalam', 'philippines', 'indonesia', 'timor-leste', 'australia', 'papua new guinea', 'new zealand', 'vanuatu', 'solomon islands', 'kiribati', 'tuvalu', 'fiji', 'tonga', 'nauru', 'marshall islands', 'palau', 'micronesia (federated states of)', 'samoa', 'montenegro', 'serbia', 'serbia and montenegro', 'united states', 'venezuela (bolivarian republic of)', 'united kingdom', 'czechia', 'north macedonia', 'yug', 'guinea-bissau', 'gambia', \"cote d'ivoire\", 'eswatini', 'trinidad & tobago', 'st. lucia', 'st. vincent & grenadines', 'antigua & barbuda', 'st. kitts & nevis', 'venezuela', 'bolivia', 'bosnia & herzegovina', 'moldova', 'russia', 'cape verde', 'são tomé & príncipe', 'côte d’ivoire', 'congo - brazzaville', 'congo - kinshasa', 'tanzania', 'iran', 'syria', 'north korea', 'south korea', 'myanmar (burma)', 'laos', 'vietnam', 'brunei']\n"
     ]
    }
   ],
   "source": [
    "balls = pd.DataFrame( columns =['Country', 'Year', 'Alignment', 'num_resos'])\n",
    "\n",
    "Countrynames = []\n",
    "for i in newdf[\"Countryname\"]:\n",
    "    if i not in Countrynames:\n",
    "        Countrynames.append(i)\n",
    "        \n",
    "print(Countrynames)"
   ]
  },
  {
   "cell_type": "code",
   "execution_count": 158,
   "metadata": {},
   "outputs": [],
   "source": [
    "\n",
    "        \n",
    "\n",
    "resgroup = newdf.groupby(newdf.Countryname)\n",
    "\n",
    "for i in range(len(Countrynames)):\n",
    "    df1 = resgroup.get_group(Countrynames[i])\n",
    "    years = []\n",
    "    for q in range(len(df1)):\n",
    "        if df1.iloc[q][\"year\"] not in years:\n",
    "            years.append(df1.iloc[q][\"year\"])\n",
    "    subgroup = df1.groupby(df1.year)\n",
    "    for r in range(len(years)):\n",
    "        df2 = subgroup.get_group(years[r])\n",
    "        sum = 0\n",
    "        numres = 0\n",
    "        for s in range(len(df2)):\n",
    "            if (df2.iloc[s][\"vote\"]!= 8) and (df2.iloc[s][\"vote\"]!= 9):\n",
    "                sum += df2.iloc[s][\"alignment\"]\n",
    "                numres += 1\n",
    "        if numres == 0:\n",
    "            average = 88\n",
    "        else:\n",
    "            average = sum / numres\n",
    "        \n",
    "        app = pd.DataFrame({\"Country\": Countrynames[i],\n",
    "                            \"Year\": years[r],\n",
    "                            \"Alignment\": average,\n",
    "                            \"num_resos\" : numres},index=[0])\n",
    "        balls = pd.concat([balls, app], ignore_index=True)"
   ]
  },
  {
   "cell_type": "code",
   "execution_count": null,
   "metadata": {},
   "outputs": [],
   "source": [
    "balls.to_excel('final.xlsx') # intended name  here"
   ]
  }
 ],
 "metadata": {
  "kernelspec": {
   "display_name": "base",
   "language": "python",
   "name": "python3"
  },
  "language_info": {
   "codemirror_mode": {
    "name": "ipython",
    "version": 3
   },
   "file_extension": ".py",
   "mimetype": "text/x-python",
   "name": "python",
   "nbconvert_exporter": "python",
   "pygments_lexer": "ipython3",
   "version": "3.9.5"
  },
  "orig_nbformat": 4
 },
 "nbformat": 4,
 "nbformat_minor": 2
}
